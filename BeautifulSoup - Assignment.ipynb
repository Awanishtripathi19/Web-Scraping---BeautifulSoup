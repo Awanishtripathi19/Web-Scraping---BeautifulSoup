{
 "cells": [
  {
   "cell_type": "markdown",
   "id": "20a09cf1",
   "metadata": {},
   "source": [
    "## Print the data of first 3 movies"
   ]
  },
  {
   "cell_type": "code",
   "execution_count": 26,
   "id": "965fef10",
   "metadata": {},
   "outputs": [
    {
     "name": "stdout",
     "output_type": "stream",
     "text": [
      "Avengers: Infinity War ; Action, Adventure, Sci-Fi\n",
      "Black Panther ; Action, Adventure, Sci-Fi\n",
      "Deadpool 2 ; Action, Adventure, Comedy\n"
     ]
    }
   ],
   "source": [
    "# Ques - 1\n",
    "# Find and print the name and genre of the first 3 titles\n",
    "\n",
    "from bs4 import BeautifulSoup\n",
    "import requests\n",
    "r = requests.get('https://www.imdb.com/search/title/?release_date=2018&sort=num_votes,desc&page=1&ref_=adv_nxt')\n",
    "data = BeautifulSoup(r.text,'html.parser')\n",
    "cl = data.find_all(class_='lister-item-content')\n",
    "for i in cl[:3]:\n",
    "    title = i.h3.a.string\n",
    "    genre = i.p.find(class_='genre')\n",
    "    genre = genre.string.strip()\n",
    "    print(title,\";\",end=\" \")\n",
    "    print(genre)"
   ]
  },
  {
   "cell_type": "markdown",
   "id": "b93d69a2",
   "metadata": {},
   "source": [
    "## titles with most votes"
   ]
  },
  {
   "cell_type": "code",
   "execution_count": 32,
   "id": "7fc5d571",
   "metadata": {
    "scrolled": true
   },
   "outputs": [
    {
     "name": "stdout",
     "output_type": "stream",
     "text": [
      "Inception\n",
      "Game of Thrones\n",
      "The Dark Knight Rises\n",
      "The Wolf of Wall Street\n",
      "Interstellar\n"
     ]
    }
   ],
   "source": [
    "# Ques - 2\n",
    "# Print the names of movies with highest number of votes from year 2010 to 2014\n",
    "\n",
    "\n",
    "from bs4 import BeautifulSoup\n",
    "import requests\n",
    "urls = ['https://www.imdb.com/search/title/?release_date=2010-01-01,2010-12-31&sort=num_votes,desc&ref_=adv_prv', 'https://www.imdb.com/search/title/?release_date=2011-01-01,2011-12-31&sort=num_votes,desc&ref_=adv_prv',\n",
    "       'https://www.imdb.com/search/title/?release_date=2012-01-01,2012-12-31&sort=num_votes,desc&ref_=adv_prv', 'https://www.imdb.com/search/title/?release_date=2013-01-01,2013-12-31&sort=num_votes,desc&ref_=adv_prv',\n",
    "       'https://www.imdb.com/search/title/?release_date=2014-01-01,2014-12-31&sort=num_votes,desc&ref_=adv_prv']\n",
    "for url in urls:\n",
    "    r = requests.get(url)\n",
    "    data = BeautifulSoup(r.text,'html.parser')\n",
    "    title = data.find(class_='lister-item-content')\n",
    "    print(title.h3.a.string)"
   ]
  },
  {
   "cell_type": "markdown",
   "id": "b646cd32",
   "metadata": {},
   "source": [
    "## title with maximum duration"
   ]
  },
  {
   "cell_type": "code",
   "execution_count": 34,
   "id": "ff5ee465",
   "metadata": {},
   "outputs": [],
   "source": [
    "# Ques -3\n",
    "# Out of the first 250 titles with highest number of votes in 2018,find which title has the maximum duration.\n",
    "\n",
    "from bs4 import BeautifulSoup\n",
    "import requests\n",
    "r = requests.get('https://www.imdb.com/search/title/?release_date=2018&sort=num_votes,desc&page=1&ref_=adv_nxt')"
   ]
  },
  {
   "cell_type": "code",
   "execution_count": 2,
   "id": "dbe4d0ae",
   "metadata": {},
   "outputs": [],
   "source": [
    "# data = BeautifulSoup(r.text,'html.parser')\n",
    "# a = data.find_all(class_='lister-item-content')\n",
    "# for i in a:\n",
    "#     tag = i.p.find(class_='runtime')\n",
    "# #     print(len(tag.string.split()[0]))"
   ]
  },
  {
   "cell_type": "markdown",
   "id": "5406d74f",
   "metadata": {},
   "source": [
    "## Quotes with tag humor"
   ]
  },
  {
   "cell_type": "code",
   "execution_count": 8,
   "id": "10ac2c21",
   "metadata": {},
   "outputs": [
    {
     "name": "stdout",
     "output_type": "stream",
     "text": [
      "“The person, be it gentleman or lady, who has not pleasure in a good novel, must be intolerably stupid.”\n",
      "“A day without sunshine is like, you know, night.”\n",
      "“Anyone who thinks sitting in church can make you a Christian must also think that sitting in a garage can make you a car.”\n",
      "“Beauty is in the eye of the beholder and it may be necessary from time to time to give a stupid or misinformed beholder a black eye.”\n",
      "“All you need is love. But a little chocolate now and then doesn't hurt.”\n",
      "“Remember, we're madly in love, so it's all right to kiss me anytime you feel like it.”\n",
      "“Some people never go crazy. What truly horrible lives they must lead.”\n",
      "“The trouble with having an open mind, of course, is that people will insist on coming along and trying to put things in it.”\n",
      "“Think left and think right and think low and think high. Oh, the thinks you can think up if only you try!”\n",
      "“The reason I talk to myself is because I’m the only one whose answers I accept.”\n",
      "“I am free of all prejudice. I hate everyone equally. ”\n",
      "“A lady's imagination is very rapid; it jumps from admiration to love, from love to matrimony in a moment.”\n"
     ]
    }
   ],
   "source": [
    "# Ques - 5\n",
    "# Find all the quotes that have the tag as \"humor\" from this website\n",
    "\n",
    "from bs4 import BeautifulSoup\n",
    "import requests\n",
    "all_url = ['http://quotes.toscrape.com/tag/humor/page/1/','http://quotes.toscrape.com/tag/humor/page/2/']\n",
    "for url in all_url:\n",
    "    r = requests.get(url)\n",
    "    data = BeautifulSoup(r.text,'html.parser')\n",
    "    title = data.find_all(class_='quote')\n",
    "    for i in title:\n",
    "        quote = i.find(class_='text')\n",
    "        print(quote.string)"
   ]
  },
  {
   "cell_type": "markdown",
   "id": "ec07d6fa",
   "metadata": {},
   "source": [
    "## Print all authors"
   ]
  },
  {
   "cell_type": "code",
   "execution_count": 1,
   "id": "d5f2964c",
   "metadata": {},
   "outputs": [
    {
     "name": "stdout",
     "output_type": "stream",
     "text": [
      "Albert Einstein\n",
      "Alexandre Dumas fils\n",
      "Alfred Tennyson\n",
      "Allen Saunders\n",
      "André Gide\n",
      "Ayn Rand\n",
      "Bob Marley\n",
      "C.S. Lewis\n",
      "Charles Bukowski\n",
      "Charles M. Schulz\n",
      "Douglas Adams\n",
      "Dr. Seuss\n",
      "E.E. Cummings\n",
      "Eleanor Roosevelt\n",
      "Elie Wiesel\n",
      "Ernest Hemingway\n",
      "Friedrich Nietzsche\n",
      "Garrison Keillor\n",
      "George Bernard Shaw\n",
      "George Carlin\n",
      "George Eliot\n",
      "George R.R. Martin\n",
      "Harper Lee\n",
      "Haruki Murakami\n",
      "Helen Keller\n",
      "J.D. Salinger\n",
      "J.K. Rowling\n",
      "J.M. Barrie\n",
      "J.R.R. Tolkien\n",
      "James Baldwin\n",
      "Jane Austen\n",
      "Jim Henson\n",
      "Jimi Hendrix\n",
      "John Lennon\n",
      "Jorge Luis Borges\n",
      "Khaled Hosseini\n",
      "Madeleine L'Engle\n",
      "Marilyn Monroe\n",
      "Mark Twain\n",
      "Martin Luther King Jr.\n",
      "Mother Teresa\n",
      "Pablo Neruda\n",
      "Ralph Waldo Emerson\n",
      "Stephenie Meyer\n",
      "Steve Martin\n",
      "Suzanne Collins\n",
      "Terry Pratchett\n",
      "Thomas A. Edison\n",
      "W.C. Fields\n",
      "William Nicholson\n"
     ]
    }
   ],
   "source": [
    "# Ques - 6\n",
    "# Find and print the names of all the different authors from all pages of this website\n",
    "# Note : Print the names of all authors line wise sorted in dictionary order\n",
    "\n",
    "import requests\n",
    "from bs4 import BeautifulSoup\n",
    "\n",
    "all_urls = ['http://quotes.toscrape.com/page/1/']\n",
    "base = 'http://quotes.toscrape.com'\n",
    "\n",
    "response = requests.get(all_urls[0])\n",
    "\n",
    "while response.status_code == 200 :\n",
    "    data = BeautifulSoup(response.text, 'html.parser')\n",
    "    if data.find(class_ = 'next') is None : \n",
    "        break\n",
    "        \n",
    "    url = data.find(class_ = 'next').a['href']\n",
    "    all_urls.append(base+url)  \n",
    "    response = requests.get(all_urls[-1])\n",
    "    \n",
    "auth_name = []\n",
    "for i in all_urls :\n",
    "    response = requests.get(i)\n",
    "    data = BeautifulSoup(response.text, 'html.parser')\n",
    "\n",
    "    for j in data.find_all(class_ = 'quote'):\n",
    "        name = j.find(class_ = 'author').string\n",
    "        if name not in auth_name:\n",
    "            auth_name.append(name)\n",
    "            \n",
    "for name in sorted(auth_name):\n",
    "    print(name)"
   ]
  },
  {
   "cell_type": "code",
   "execution_count": null,
   "id": "c3404f15",
   "metadata": {},
   "outputs": [],
   "source": []
  }
 ],
 "metadata": {
  "kernelspec": {
   "display_name": "Python 3 (ipykernel)",
   "language": "python",
   "name": "python3"
  },
  "language_info": {
   "codemirror_mode": {
    "name": "ipython",
    "version": 3
   },
   "file_extension": ".py",
   "mimetype": "text/x-python",
   "name": "python",
   "nbconvert_exporter": "python",
   "pygments_lexer": "ipython3",
   "version": "3.10.9"
  }
 },
 "nbformat": 4,
 "nbformat_minor": 5
}
